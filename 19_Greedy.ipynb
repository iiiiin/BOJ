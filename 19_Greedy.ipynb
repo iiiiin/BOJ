{
 "cells": [
  {
   "cell_type": "code",
   "execution_count": null,
   "metadata": {},
   "outputs": [],
   "source": [
    "# 11047 - 동전 0\n",
    "\n",
    "n, m = map(int, input().split())\n",
    "array = [int(input()) for x in range(n)]\n",
    "count = 0\n",
    "for i in array[::-1]:\n",
    "    if i <= m and m // i > 0:\n",
    "        count += m // i\n",
    "        m = m % i\n",
    "print(count)"
   ]
  },
  {
   "cell_type": "code",
   "execution_count": null,
   "metadata": {},
   "outputs": [],
   "source": [
    "# 1931 - 회의실 배정\n",
    "\n",
    "import sys\n",
    "input = sys.stdin.readline\n",
    "n = int(input())\n",
    "array = sorted([list(map(int, input().split())) for x in range(n)], key=lambda x : (x[1],x[0]))\n",
    "count = 1\n",
    "k = array[0]\n",
    "for i in range(1, len(array)):\n",
    "    if array[i][0] >= k[1]:\n",
    "        k = array[i]\n",
    "        count += 1\n",
    "print(count)"
   ]
  },
  {
   "cell_type": "code",
   "execution_count": 6,
   "metadata": {},
   "outputs": [
    {
     "name": "stdout",
     "output_type": "stream",
     "text": [
      "10\n"
     ]
    }
   ],
   "source": [
    "# 13305 - 주유소\n",
    "\n",
    "import sys\n",
    "input = sys.stdin.readline\n",
    "n = int(input())\n",
    "dist = list(map(int, input().split()))\n",
    "cost = list(map(int, input().split()))\n",
    "total = cost[0]*dist[0]\n",
    "min_cost = cost[0]\n",
    "for i in range(1,n-1):\n",
    "    if min_cost >= cost[i]:\n",
    "        min_cost = cost[i]\n",
    "    total += min_cost*dist[i]\n",
    "print(total)"
   ]
  },
  {
   "cell_type": "code",
   "execution_count": 16,
   "metadata": {},
   "outputs": [
    {
     "name": "stdout",
     "output_type": "stream",
     "text": [
      "32\n"
     ]
    }
   ],
   "source": [
    "# 11399 - ATM\n",
    "\n",
    "import sys\n",
    "input = sys.stdin.readline\n",
    "n = int(input())\n",
    "array = sorted(list(map(int, input().split())))\n",
    "count = 0\n",
    "for i in range(n):\n",
    "    count += (array[i] * (n-i))\n",
    "print(count)"
   ]
  },
  {
   "cell_type": "code",
   "execution_count": 23,
   "metadata": {},
   "outputs": [
    {
     "name": "stdout",
     "output_type": "stream",
     "text": [
      "6\n"
     ]
    }
   ],
   "source": [
    "# 1541 - 잃어버린 괄호\n",
    "\n",
    "import sys\n",
    "input = sys.stdin.readline\n",
    "s = input().split('-')\n",
    "count = sum(list(map(int, s[0].split('+'))))\n",
    "for i in range(1,len(s)):\n",
    "    count -= sum(list(map(int, s[i].split('+'))))\n",
    "print(count)"
   ]
  }
 ],
 "metadata": {
  "kernelspec": {
   "display_name": "Python 3",
   "language": "python",
   "name": "python3"
  },
  "language_info": {
   "codemirror_mode": {
    "name": "ipython",
    "version": 3
   },
   "file_extension": ".py",
   "mimetype": "text/x-python",
   "name": "python",
   "nbconvert_exporter": "python",
   "pygments_lexer": "ipython3",
   "version": "3.11.0"
  },
  "orig_nbformat": 4,
  "vscode": {
   "interpreter": {
    "hash": "ebdc6496caa757538c07a948492b080d0e0e24dab55381eababb570eaf19f2d7"
   }
  }
 },
 "nbformat": 4,
 "nbformat_minor": 2
}
