{
 "cells": [
  {
   "cell_type": "code",
   "execution_count": null,
   "metadata": {},
   "outputs": [],
   "source": [
    "# 2750 - 수 정렬하기\n",
    "\n",
    "n = int(input())\n",
    "print(*sorted([int(input()) for x in range(n)]),sep='\\n')"
   ]
  },
  {
   "cell_type": "code",
   "execution_count": null,
   "metadata": {},
   "outputs": [],
   "source": [
    "# 2587 - 대표값 2\n",
    "\n",
    "array = sorted([int(input()) for i in range(5)])\n",
    "print(sum(array)//5,array[2],sep='\\n')"
   ]
  },
  {
   "cell_type": "code",
   "execution_count": null,
   "metadata": {},
   "outputs": [],
   "source": [
    "# 25305 - 커트라인\n",
    "\n",
    "n, k = map(int, input().split())\n",
    "array = sorted(list(map(int,input().split())),reverse=True)\n",
    "print(array[k-1])"
   ]
  },
  {
   "cell_type": "code",
   "execution_count": null,
   "metadata": {},
   "outputs": [],
   "source": [
    "# 2751 - 수 정렬하기 2\n",
    "n = int(input())\n",
    "print(*sorted([int(input()) for x in range(n)]),sep='\\n')"
   ]
  },
  {
   "cell_type": "code",
   "execution_count": null,
   "metadata": {},
   "outputs": [],
   "source": [
    "# 10989 - 수 정렬하기 3\n",
    "\n",
    "array = [0 for x in range(10001)]\n",
    "n = int(input())\n",
    "for i in range(n):\n",
    "    array[int(input())] += 1\n",
    "for i in range(len(array)):\n",
    "    if array[i] != 0:\n",
    "        for j in range(array[i]):\n",
    "            print(i)"
   ]
  },
  {
   "cell_type": "code",
   "execution_count": null,
   "metadata": {},
   "outputs": [],
   "source": [
    "# 2108 - 통계학\n",
    "\n",
    "n = int(input())\n",
    "count_list = [0]*8001\n",
    "ans = dict()\n",
    "array = []\n",
    "\n",
    "for i in range(n):\n",
    "    k = int(input())\n",
    "    count_list[k] += 1\n",
    "\n",
    "for i in range(8001):\n",
    "    if count_list[i] > 0 and i <= 4000:\n",
    "        ans[i] = count_list[i]\n",
    "    elif count_list[i] > 0 and i > 4000:\n",
    "        ans[i-8001] = count_list[i-8001]\n",
    "ans = dict(sorted(ans.items()))\n",
    "mv = max(ans.values())\n",
    "a = [x for x in ans.keys() if ans[x] == mv]\n",
    "for i in ans.keys():\n",
    "    array += [i]*ans[i]\n",
    "if len(a) > 1:\n",
    "    d = a[1]\n",
    "else:\n",
    "    d = a[0]\n",
    "\n",
    "print(round(sum(array)/n))\n",
    "print(array[len(array)//2])\n",
    "print(d)\n",
    "print(abs(array[-1]-array[0]))"
   ]
  },
  {
   "cell_type": "code",
   "execution_count": null,
   "metadata": {},
   "outputs": [],
   "source": [
    "# 1427 - 소트 인사이드\n",
    "\n",
    "n = input()\n",
    "a = [int(n[x]) for x in range(len(n))]\n",
    "a = sorted(a, reverse=True)\n",
    "b = [str(a[x]) for x in range(len(a))]\n",
    "c = \"\".join(b)\n",
    "print(c)"
   ]
  },
  {
   "cell_type": "code",
   "execution_count": null,
   "metadata": {},
   "outputs": [],
   "source": [
    "# 11650 - 좌표 정렬하기\n",
    "\n",
    "n = int(input())\n",
    "b = [list(map(int, input().split())) for i in range(n)]\n",
    "b.sort()\n",
    "for i in range(len(b)):\n",
    "    print(\"{0} {1}\".format(b[i][0],b[i][1]))"
   ]
  },
  {
   "cell_type": "code",
   "execution_count": null,
   "metadata": {},
   "outputs": [],
   "source": [
    "# 11651 - 좌표 정렬하기 2\n",
    "\n",
    "n = int(input())\n",
    "b =  [tuple(map(int, input().split())) for x in range(n)]\n",
    "b.sort(key=lambda x : (x[1],x[0]))\n",
    "for i in range(len(b)):\n",
    "    print(f'{b[i][0]} {b[i][1]}')"
   ]
  },
  {
   "cell_type": "code",
   "execution_count": null,
   "metadata": {},
   "outputs": [],
   "source": [
    "# 1181 - 단어 정렬\n",
    "\n",
    "n = int(input())\n",
    "a = [input() for x in range(n)]\n",
    "a = list(set(a))\n",
    "a = sorted(a,key=lambda x : (len(x),x))\n",
    "print(*a,sep='\\n')"
   ]
  },
  {
   "cell_type": "code",
   "execution_count": null,
   "metadata": {},
   "outputs": [],
   "source": [
    "# 10814 - 나이순 정렬\n",
    "\n",
    "n = int(input())\n",
    "a = [input().split() for i in range(n)]\n",
    "a = sorted(a, key=lambda x : int(x[0]))\n",
    "for i in range(len(a)):\n",
    "    print(f'{a[i][0]} {a[i][1]}')"
   ]
  },
  {
   "cell_type": "code",
   "execution_count": null,
   "metadata": {},
   "outputs": [],
   "source": [
    "# 18870 - 좌표 압축\n",
    "\n",
    "n = int(input())\n",
    "array = list(map(int, input().split()))\n",
    "answer = sorted(set(array))\n",
    "dic = {answer[i] : i for i in range(len(answer))}\n",
    "for i in array:\n",
    "    print(dic[i], end = ' ')"
   ]
  }
 ],
 "metadata": {
  "kernelspec": {
   "display_name": "Python 3.11.0 64-bit",
   "language": "python",
   "name": "python3"
  },
  "language_info": {
   "codemirror_mode": {
    "name": "ipython",
    "version": 3
   },
   "file_extension": ".py",
   "mimetype": "text/x-python",
   "name": "python",
   "nbconvert_exporter": "python",
   "pygments_lexer": "ipython3",
   "version": "3.11.0"
  },
  "orig_nbformat": 4,
  "vscode": {
   "interpreter": {
    "hash": "ebdc6496caa757538c07a948492b080d0e0e24dab55381eababb570eaf19f2d7"
   }
  }
 },
 "nbformat": 4,
 "nbformat_minor": 2
}
