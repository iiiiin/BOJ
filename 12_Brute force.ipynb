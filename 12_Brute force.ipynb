{
 "cells": [
  {
   "cell_type": "code",
   "execution_count": null,
   "metadata": {},
   "outputs": [],
   "source": [
    "# 2798 - 블랙잭\n",
    "\n",
    "from itertools import combinations\n",
    "import sys\n",
    "\n",
    "input = sys.stdin.readline\n",
    "n, m = map(int, input().split())\n",
    "array = list(map(int, input().split()))\n",
    "count = 0\n",
    "com = combinations(array,3)\n",
    "for i in com:\n",
    "    if count < sum(i) and sum(i) <= m:\n",
    "        count = sum(i)\n",
    "print(count)"
   ]
  },
  {
   "cell_type": "code",
   "execution_count": null,
   "metadata": {},
   "outputs": [],
   "source": [
    "# 2231 - 분해합\n",
    "\n",
    "n = int(input())\n",
    "for i in range(1,1000001):\n",
    "    a = i + i // 100000 + (i % 100000) // 10000\n",
    "    b = (i % 10000) // 1000 + (i % 1000) // 100 + (i % 100) // 10 + (i % 10)\n",
    "    c = a + b\n",
    "    if c == n:\n",
    "        break\n",
    "    i += 1\n",
    "if i == 1000001:\n",
    "    print(0)\n",
    "else:\n",
    "    print(i)"
   ]
  },
  {
   "cell_type": "code",
   "execution_count": null,
   "metadata": {},
   "outputs": [],
   "source": [
    "# 7568 - 덩치\n",
    "\n",
    "n = int(input())\n",
    "spare = [1]*n\n",
    "array = [list(map(int, input().split())) for x in range(n)]\n",
    "\n",
    "for i in range(n):\n",
    "    for j in range(n):\n",
    "        if i == j:\n",
    "            continue\n",
    "        elif array[i][0] < array[j][0] and array[i][1] < array[j][1]:\n",
    "            spare[i] += 1\n",
    "for i in spare:\n",
    "    print(i,end=' ')"
   ]
  },
  {
   "cell_type": "code",
   "execution_count": null,
   "metadata": {},
   "outputs": [],
   "source": [
    "# 1018 - 체스판 다시 칠하기\n",
    "\n",
    "n, m = map(int, input().split())\n",
    "array = [list(input()) for i in range(n)]\n",
    "count = []\n",
    "for x in range(n-7):\n",
    "    for y in range(m-7):\n",
    "        w_idx = 0\n",
    "        b_idx = 0\n",
    "        for i in range(x,x+8):\n",
    "            for j in range(y,y+8):\n",
    "                if (i+j) % 2 == 0:\n",
    "                    if array[i][j] != 'W':\n",
    "                        w_idx += 1\n",
    "                    else:\n",
    "                        b_idx += 1\n",
    "                else:\n",
    "                    if array[i][j] != 'W':\n",
    "                        b_idx += 1\n",
    "                    else:\n",
    "                        w_idx += 1\n",
    "        count.append(w_idx)\n",
    "        count.append(b_idx)\n",
    "print(min(count))"
   ]
  },
  {
   "cell_type": "code",
   "execution_count": null,
   "metadata": {},
   "outputs": [],
   "source": [
    "# 1436 - 영화감독 숌\n",
    "\n",
    "n = int(input())\n",
    "count = 0\n",
    "a = 1\n",
    "while True:\n",
    "    a += 1\n",
    "    if '666' in str(a):\n",
    "        count += 1\n",
    "    if count == n:\n",
    "        print(a)\n",
    "        break"
   ]
  }
 ],
 "metadata": {
  "kernelspec": {
   "display_name": "Python 3.11.0 64-bit",
   "language": "python",
   "name": "python3"
  },
  "language_info": {
   "codemirror_mode": {
    "name": "ipython",
    "version": 3
   },
   "file_extension": ".py",
   "mimetype": "text/x-python",
   "name": "python",
   "nbconvert_exporter": "python",
   "pygments_lexer": "ipython3",
   "version": "3.11.0"
  },
  "orig_nbformat": 4,
  "vscode": {
   "interpreter": {
    "hash": "ebdc6496caa757538c07a948492b080d0e0e24dab55381eababb570eaf19f2d7"
   }
  }
 },
 "nbformat": 4,
 "nbformat_minor": 2
}
